{
 "cells": [
  {
   "cell_type": "markdown",
   "id": "5e830060-8f85-41d9-a4a0-422f6dd788c5",
   "metadata": {},
   "source": [
    "# Q1. Explain Class and Object with respect to Object-Oriented Programming. Give a suitable example."
   ]
  },
  {
   "cell_type": "code",
   "execution_count": 1,
   "id": "5af5fa26-fe9f-47b6-b6f3-1562a4ebd23e",
   "metadata": {},
   "outputs": [],
   "source": [
    "# In object-oriented programming (OOP), a class is a blueprint or template that defines the structure and behavior of objects. It provides a set of attributes (data) and methods (functions) that describe the characteristics and actions of objects that can be created based on the class. A class serves as a blueprint for creating multiple objects of the same type.An object, on the other hand, is an instance of a class. It represents a specific entity that is created using the class. An object has its own state (values of attributes) and can perform operations (invoke methods) defined in its class. Objects are independent and can interact with each other based on the rules and behaviors defined by the class.\n",
    "\n",
    "class Car:\n",
    "    def __init__(self, make, model, year):\n",
    "        self.make = make\n",
    "        self.model = model\n",
    "        self.year = year\n",
    "        self.speed = 0\n",
    "\n",
    "    def accelerate(self, increment):\n",
    "        self.speed += increment\n",
    "\n",
    "    def brake(self, decrement):\n",
    "        if self.speed >= decrement:\n",
    "            self.speed -= decrement\n",
    "        else:\n",
    "            self.speed = 0\n",
    "\n",
    "    def get_speed(self):\n",
    "        return self.speed\n"
   ]
  },
  {
   "cell_type": "code",
   "execution_count": 3,
   "id": "18a67492-80df-497a-a2be-a509919b03e8",
   "metadata": {},
   "outputs": [
    {
     "name": "stdout",
     "output_type": "stream",
     "text": [
      "30\n",
      "40\n",
      "15\n",
      "15\n"
     ]
    }
   ],
   "source": [
    "car1 = Car(\"Honda\", \"Civic\", 2021)\n",
    "car2 = Car(\"Toyota\", \"Corolla\", 2022)\n",
    "\n",
    "car1.accelerate(30)\n",
    "car2.accelerate(40)\n",
    "\n",
    "print(car1.get_speed())\n",
    "print(car2.get_speed())\n",
    "\n",
    "car1.brake(15)\n",
    "car2.brake(25)\n",
    "\n",
    "print(car1.get_speed()) \n",
    "print(car2.get_speed()) \n"
   ]
  },
  {
   "cell_type": "markdown",
   "id": "ecc8fcc3-f957-4892-9659-e9bcd4a0548c",
   "metadata": {},
   "source": [
    "# Q.2 Name the four pillars of OOPs."
   ]
  },
  {
   "cell_type": "code",
   "execution_count": null,
   "id": "6fea1ee4-f768-478b-b329-e901e490bfb4",
   "metadata": {},
   "outputs": [],
   "source": [
    "\n",
    "The four pillars of object-oriented programming (OOP) are:\n",
    "\n",
    "1.Encapsulation: Encapsulation is the process of hiding internal details and implementation of an object and providing access to only essential features through interfaces. It helps in achieving data hiding and abstraction by bundling data (attributes) and methods (functions) together within a class.\n",
    "\n",
    "2.Inheritance: Inheritance is a mechanism that allows a class to inherit the properties and behaviors of another class. It enables the creation of hierarchical relationships between classes, where a derived class (subclass) can inherit and extend the attributes and methods of a base class (superclass). Inheritance promotes code reusability and allows for the creation of specialized classes based on existing ones.\n",
    "\n",
    "3.Polymorphism: Polymorphism refers to the ability of objects to take on multiple forms or have multiple behaviors based on the context. It allows different classes to implement the same method name in different ways, providing flexibility and extensibility in the code. Polymorphism can be achieved through method overriding (redefining a method in a subclass) and method overloading (defining multiple methods with the same name but different parameters).\n",
    "\n",
    "4.Abstraction: Abstraction is the process of representing complex real-world entities as simplified models within the software system. It focuses on capturing the essential features and behavior of an object while hiding unnecessary details. Abstraction allows programmers to create classes, interfaces, and methods that provide a high-level view and interact with objects based on their functionalities, without exposing their underlying implementation."
   ]
  },
  {
   "cell_type": "markdown",
   "id": "4851eb81-d022-4af3-9009-cb62fac2bdf2",
   "metadata": {},
   "source": [
    "# Q3. Explain why the __init__() function is used. Give a suitable example."
   ]
  },
  {
   "cell_type": "code",
   "execution_count": 4,
   "id": "b6147f96-2d16-4fbc-8be1-b6e5767c0347",
   "metadata": {},
   "outputs": [
    {
     "name": "stdout",
     "output_type": "stream",
     "text": [
      "Hello, my name is sunny, and I'm 21 years old.\n",
      "Hello, my name is gaurang, and I'm 22 years old.\n"
     ]
    }
   ],
   "source": [
    "# The __init__() function is a special method in Python classes that is automatically called when an object of the class is created. It is commonly known as the constructor method. The primary purpose of the __init__() function is to initialize the attributes (data members) of an object with default or provided values.\n",
    "\n",
    "class obj :\n",
    "    def __init__(self, name, age):\n",
    "        self.name = name\n",
    "        self.age = age\n",
    "\n",
    "    def introduce(self):\n",
    "        print(f\"Hello, my name is {self.name}, and I'm {self.age} years old.\")\n",
    "\n",
    "obj1 = obj(\"sunny\", 21)\n",
    "obj2 = obj(\"gaurang\", 22)\n",
    "\n",
    "obj1.introduce()\n",
    "obj2.introduce()\n"
   ]
  },
  {
   "cell_type": "markdown",
   "id": "28d4d755-d271-48a7-b637-95f7131a2be1",
   "metadata": {},
   "source": [
    "# Q4 Why self is used in OOPs?"
   ]
  },
  {
   "cell_type": "code",
   "execution_count": 5,
   "id": "c7086018-81c0-4bf5-a179-65711d125ad9",
   "metadata": {},
   "outputs": [
    {
     "name": "stdout",
     "output_type": "stream",
     "text": [
      "Hello, my name is sunny, and I'm 21 years old.\n",
      "Hello, my name is gaurang, and I'm 22 years old.\n"
     ]
    }
   ],
   "source": [
    "#In object-oriented programming (OOP), the self parameter is used to refer to the instance of a class within its methods. It is a convention in Python (though you can use any name instead of self) and is widely followed to improve code readability and maintainability.\n",
    "\n",
    "#The purpose of using self is to differentiate between instance variables (attributes) and local variables within a method. By using self, you explicitly indicate that you are referring to an instance attribute rather than a local variable or a parameter of the method.\n",
    "\n",
    "class obj :\n",
    "    def __init__(self, name, age):\n",
    "        self.name = name\n",
    "        self.age = age\n",
    "\n",
    "    def introduce(self):\n",
    "        print(f\"Hello, my name is {self.name}, and I'm {self.age} years old.\")\n",
    "\n",
    "obj1 = obj(\"sunny\", 21)\n",
    "obj2 = obj(\"gaurang\", 22)\n",
    "\n",
    "obj1.introduce()\n",
    "obj2.introduce()"
   ]
  },
  {
   "cell_type": "markdown",
   "id": "d1096d5c-29ac-4e56-b034-2e0a760e07d5",
   "metadata": {},
   "source": [
    "# Q5. What is inheritance? Give an example for each type of inheritance."
   ]
  },
  {
   "cell_type": "code",
   "execution_count": 7,
   "id": "c66295f4-59ac-4036-9648-b2c574ef30e0",
   "metadata": {},
   "outputs": [
    {
     "name": "stdout",
     "output_type": "stream",
     "text": [
      "Breathing...\n",
      "Barking...\n"
     ]
    }
   ],
   "source": [
    "# Inheritance is a fundamental concept in object-oriented programming (OOP) that allows a class to inherit properties (attributes and methods) from another class. It establishes a hierarchical relationship between classes, where a derived class (subclass) inherits the characteristics of a base class (superclass). The derived class can extend, modify, or specialize the inherited properties and also add its own unique properties.\n",
    "class Animal:\n",
    "    def breathe(self):\n",
    "        print(\"Breathing...\")\n",
    "\n",
    "class Dog(Animal):\n",
    "    def bark(self):\n",
    "        print(\"Barking...\")\n",
    "\n",
    "dog = Dog()\n",
    "dog.breathe() \n",
    "dog.bark()  \n"
   ]
  },
  {
   "cell_type": "code",
   "execution_count": null,
   "id": "b2c4da26-988e-444c-96c4-8c387b940bc2",
   "metadata": {},
   "outputs": [],
   "source": []
  }
 ],
 "metadata": {
  "kernelspec": {
   "display_name": "Python 3 (ipykernel)",
   "language": "python",
   "name": "python3"
  },
  "language_info": {
   "codemirror_mode": {
    "name": "ipython",
    "version": 3
   },
   "file_extension": ".py",
   "mimetype": "text/x-python",
   "name": "python",
   "nbconvert_exporter": "python",
   "pygments_lexer": "ipython3",
   "version": "3.10.8"
  }
 },
 "nbformat": 4,
 "nbformat_minor": 5
}
